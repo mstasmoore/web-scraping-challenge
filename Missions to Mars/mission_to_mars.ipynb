{
 "cells": [
  {
   "cell_type": "code",
   "execution_count": 16,
   "id": "83f4e010",
   "metadata": {},
   "outputs": [],
   "source": [
    "from splinter import Browser\n",
    "from bs4 import BeautifulSoup\n",
    "import pandas as pd\n",
    "import requests\n",
    "import pymongo\n",
    "from flask import Flask, render_template, redirect\n"
   ]
  },
  {
   "cell_type": "code",
   "execution_count": 17,
   "id": "2fd0640e",
   "metadata": {},
   "outputs": [
    {
     "name": "stdout",
     "output_type": "stream",
     "text": [
      "Defaulting to user installation because normal site-packages is not writeable\n",
      "Requirement already satisfied: Flask-PyMongo in c:\\users\\mstas\\appdata\\roaming\\python\\python39\\site-packages (2.3.0)\n",
      "Requirement already satisfied: PyMongo>=3.3 in c:\\users\\mstas\\appdata\\roaming\\python\\python39\\site-packages (from Flask-PyMongo) (4.2.0)\n",
      "Requirement already satisfied: Flask>=0.11 in c:\\programdata\\anaconda3\\lib\\site-packages (from Flask-PyMongo) (1.1.2)\n",
      "Requirement already satisfied: itsdangerous>=0.24 in c:\\programdata\\anaconda3\\lib\\site-packages (from Flask>=0.11->Flask-PyMongo) (2.0.1)\n",
      "Requirement already satisfied: Jinja2>=2.10.1 in c:\\programdata\\anaconda3\\lib\\site-packages (from Flask>=0.11->Flask-PyMongo) (2.11.3)\n",
      "Requirement already satisfied: Werkzeug>=0.15 in c:\\programdata\\anaconda3\\lib\\site-packages (from Flask>=0.11->Flask-PyMongo) (2.0.3)\n",
      "Requirement already satisfied: click>=5.1 in c:\\programdata\\anaconda3\\lib\\site-packages (from Flask>=0.11->Flask-PyMongo) (8.0.4)\n",
      "Requirement already satisfied: colorama in c:\\programdata\\anaconda3\\lib\\site-packages (from click>=5.1->Flask>=0.11->Flask-PyMongo) (0.4.4)\n",
      "Requirement already satisfied: MarkupSafe>=0.23 in c:\\programdata\\anaconda3\\lib\\site-packages (from Jinja2>=2.10.1->Flask>=0.11->Flask-PyMongo) (2.0.1)\n",
      "Note: you may need to restart the kernel to use updated packages.\n"
     ]
    }
   ],
   "source": [
    "pip install Flask-PyMongo"
   ]
  },
  {
   "cell_type": "code",
   "execution_count": 18,
   "id": "f3c34e51",
   "metadata": {},
   "outputs": [],
   "source": [
    "from flask_pymongo import PyMongo"
   ]
  },
  {
   "cell_type": "code",
   "execution_count": 19,
   "id": "ea1e2d00",
   "metadata": {},
   "outputs": [
    {
     "name": "stdout",
     "output_type": "stream",
     "text": [
      "Defaulting to user installation because normal site-packages is not writeable\n",
      "Requirement already satisfied: selenium in c:\\users\\mstas\\appdata\\roaming\\python\\python39\\site-packages (3.141.0)\n",
      "Collecting selenium\n",
      "  Using cached selenium-4.4.3-py3-none-any.whl (985 kB)\n",
      "Requirement already satisfied: certifi>=2021.10.8 in c:\\programdata\\anaconda3\\lib\\site-packages (from selenium) (2021.10.8)\n",
      "Requirement already satisfied: urllib3[socks]~=1.26 in c:\\programdata\\anaconda3\\lib\\site-packages (from selenium) (1.26.9)\n",
      "Requirement already satisfied: trio~=0.17 in c:\\users\\mstas\\appdata\\roaming\\python\\python39\\site-packages (from selenium) (0.21.0)\n",
      "Requirement already satisfied: trio-websocket~=0.9 in c:\\users\\mstas\\appdata\\roaming\\python\\python39\\site-packages (from selenium) (0.9.2)\n",
      "Requirement already satisfied: attrs>=19.2.0 in c:\\programdata\\anaconda3\\lib\\site-packages (from trio~=0.17->selenium) (21.4.0)\n",
      "Requirement already satisfied: cffi>=1.14 in c:\\programdata\\anaconda3\\lib\\site-packages (from trio~=0.17->selenium) (1.15.0)\n",
      "Requirement already satisfied: async-generator>=1.9 in c:\\users\\mstas\\appdata\\roaming\\python\\python39\\site-packages (from trio~=0.17->selenium) (1.10)\n",
      "Requirement already satisfied: sortedcontainers in c:\\programdata\\anaconda3\\lib\\site-packages (from trio~=0.17->selenium) (2.4.0)\n",
      "Requirement already satisfied: sniffio in c:\\programdata\\anaconda3\\lib\\site-packages (from trio~=0.17->selenium) (1.2.0)\n",
      "Requirement already satisfied: idna in c:\\programdata\\anaconda3\\lib\\site-packages (from trio~=0.17->selenium) (3.3)\n",
      "Requirement already satisfied: outcome in c:\\users\\mstas\\appdata\\roaming\\python\\python39\\site-packages (from trio~=0.17->selenium) (1.2.0)\n",
      "Requirement already satisfied: pycparser in c:\\programdata\\anaconda3\\lib\\site-packages (from cffi>=1.14->trio~=0.17->selenium) (2.21)\n",
      "Requirement already satisfied: wsproto>=0.14 in c:\\users\\mstas\\appdata\\roaming\\python\\python39\\site-packages (from trio-websocket~=0.9->selenium) (1.2.0)\n",
      "Requirement already satisfied: PySocks!=1.5.7,<2.0,>=1.5.6 in c:\\programdata\\anaconda3\\lib\\site-packages (from urllib3[socks]~=1.26->selenium) (1.7.1)\n",
      "Requirement already satisfied: h11<1,>=0.9.0 in c:\\users\\mstas\\appdata\\roaming\\python\\python39\\site-packages (from wsproto>=0.14->trio-websocket~=0.9->selenium) (0.13.0)\n",
      "Installing collected packages: selenium\n",
      "  Attempting uninstall: selenium\n",
      "    Found existing installation: selenium 3.141.0\n",
      "    Uninstalling selenium-3.141.0:\n",
      "      Successfully uninstalled selenium-3.141.0\n",
      "Successfully installed selenium-4.4.3\n",
      "Note: you may need to restart the kernel to use updated packages.\n"
     ]
    }
   ],
   "source": [
    "\n",
    "pip install -U selenium"
   ]
  },
  {
   "cell_type": "code",
   "execution_count": 20,
   "id": "b0591667",
   "metadata": {},
   "outputs": [
    {
     "name": "stdout",
     "output_type": "stream",
     "text": [
      "Defaulting to user installation because normal site-packages is not writeable\n",
      "Requirement already satisfied: webdriver-manager in c:\\users\\mstas\\appdata\\roaming\\python\\python39\\site-packages (3.8.3)\n",
      "Requirement already satisfied: tqdm in c:\\programdata\\anaconda3\\lib\\site-packages (from webdriver-manager) (4.64.0)\n",
      "Requirement already satisfied: python-dotenv in c:\\users\\mstas\\appdata\\roaming\\python\\python39\\site-packages (from webdriver-manager) (0.21.0)\n",
      "Requirement already satisfied: requests in c:\\programdata\\anaconda3\\lib\\site-packages (from webdriver-manager) (2.27.1)\n",
      "Requirement already satisfied: charset-normalizer~=2.0.0 in c:\\programdata\\anaconda3\\lib\\site-packages (from requests->webdriver-manager) (2.0.4)\n",
      "Requirement already satisfied: idna<4,>=2.5 in c:\\programdata\\anaconda3\\lib\\site-packages (from requests->webdriver-manager) (3.3)\n",
      "Requirement already satisfied: certifi>=2017.4.17 in c:\\programdata\\anaconda3\\lib\\site-packages (from requests->webdriver-manager) (2021.10.8)\n",
      "Requirement already satisfied: urllib3<1.27,>=1.21.1 in c:\\programdata\\anaconda3\\lib\\site-packages (from requests->webdriver-manager) (1.26.9)\n",
      "Requirement already satisfied: colorama in c:\\programdata\\anaconda3\\lib\\site-packages (from tqdm->webdriver-manager) (0.4.4)\n",
      "Note: you may need to restart the kernel to use updated packages.\n"
     ]
    }
   ],
   "source": [
    "pip install webdriver-manager"
   ]
  },
  {
   "cell_type": "code",
   "execution_count": 21,
   "id": "4c16ea17",
   "metadata": {},
   "outputs": [],
   "source": [
    "from selenium.webdriver.common.keys import Keys\n",
    "from selenium.webdriver.common.by import By\n",
    "from selenium.webdriver.chrome.options import Options"
   ]
  },
  {
   "cell_type": "code",
   "execution_count": 23,
   "id": "58595a8e",
   "metadata": {},
   "outputs": [
    {
     "name": "stdout",
     "output_type": "stream",
     "text": [
      "Defaulting to user installation because normal site-packages is not writeable\n",
      "Requirement already satisfied: splinter[selenium3] in c:\\users\\mstas\\appdata\\roaming\\python\\python39\\site-packages (0.18.1)\n",
      "Collecting selenium<4.0,>=3.141.0\n",
      "  Using cached selenium-3.141.0-py2.py3-none-any.whl (904 kB)\n",
      "Requirement already satisfied: urllib3 in c:\\programdata\\anaconda3\\lib\\site-packages (from selenium<4.0,>=3.141.0->splinter[selenium3]) (1.26.9)\n",
      "Installing collected packages: selenium\n",
      "  Attempting uninstall: selenium\n",
      "    Found existing installation: selenium 4.4.3\n",
      "    Uninstalling selenium-4.4.3:\n",
      "      Successfully uninstalled selenium-4.4.3\n",
      "Successfully installed selenium-3.141.0\n",
      "Note: you may need to restart the kernel to use updated packages.\n"
     ]
    }
   ],
   "source": [
    "pip install splinter[selenium3]"
   ]
  },
  {
   "cell_type": "code",
   "execution_count": 24,
   "id": "c71d64b9",
   "metadata": {},
   "outputs": [
    {
     "name": "stdout",
     "output_type": "stream",
     "text": [
      "Unexpected exception formatting exception. Falling back to standard exception\n"
     ]
    },
    {
     "name": "stderr",
     "output_type": "stream",
     "text": [
      "Traceback (most recent call last):\n",
      "  File \"C:\\Users\\mstas\\AppData\\Roaming\\Python\\Python39\\site-packages\\selenium\\webdriver\\common\\service.py\", line 72, in start\n",
      "    self.process = subprocess.Popen(cmd, env=self.env,\n",
      "  File \"C:\\ProgramData\\Anaconda3\\lib\\subprocess.py\", line 951, in __init__\n",
      "    self._execute_child(args, executable, preexec_fn, close_fds,\n",
      "  File \"C:\\ProgramData\\Anaconda3\\lib\\subprocess.py\", line 1420, in _execute_child\n",
      "    hp, ht, pid, tid = _winapi.CreateProcess(executable, args,\n",
      "FileNotFoundError: [WinError 2] The system cannot find the file specified\n",
      "\n",
      "During handling of the above exception, another exception occurred:\n",
      "\n",
      "Traceback (most recent call last):\n",
      "  File \"C:\\ProgramData\\Anaconda3\\lib\\site-packages\\IPython\\core\\interactiveshell.py\", line 3369, in run_code\n",
      "    exec(code_obj, self.user_global_ns, self.user_ns)\n",
      "  File \"C:\\Users\\mstas\\AppData\\Local\\Temp\\ipykernel_18780\\4092595087.py\", line 8, in <cell line: 8>\n",
      "    sdriver = webdriver.Chrome(executable_path='C:\\Program Files\\Chrome Driver\\chromedriver.exe')\n",
      "  File \"C:\\Users\\mstas\\AppData\\Roaming\\Python\\Python39\\site-packages\\selenium\\webdriver\\chrome\\webdriver.py\", line 73, in __init__\n",
      "    self.service.start()\n",
      "  File \"C:\\Users\\mstas\\AppData\\Roaming\\Python\\Python39\\site-packages\\selenium\\webdriver\\common\\service.py\", line 81, in start\n",
      "    raise WebDriverException(\n",
      "selenium.common.exceptions.WebDriverException: Message: 'chromedriver.exe' executable needs to be in PATH. Please see https://sites.google.com/a/chromium.org/chromedriver/home\n",
      "\n",
      "\n",
      "During handling of the above exception, another exception occurred:\n",
      "\n",
      "Traceback (most recent call last):\n",
      "  File \"C:\\ProgramData\\Anaconda3\\lib\\site-packages\\IPython\\core\\interactiveshell.py\", line 1982, in showtraceback\n",
      "    stb = self.InteractiveTB.structured_traceback(\n",
      "  File \"C:\\ProgramData\\Anaconda3\\lib\\site-packages\\IPython\\core\\ultratb.py\", line 1118, in structured_traceback\n",
      "    return FormattedTB.structured_traceback(\n",
      "  File \"C:\\ProgramData\\Anaconda3\\lib\\site-packages\\IPython\\core\\ultratb.py\", line 1012, in structured_traceback\n",
      "    return VerboseTB.structured_traceback(\n",
      "  File \"C:\\ProgramData\\Anaconda3\\lib\\site-packages\\IPython\\core\\ultratb.py\", line 865, in structured_traceback\n",
      "    formatted_exception = self.format_exception_as_a_whole(etype, evalue, etb, number_of_lines_of_context,\n",
      "  File \"C:\\ProgramData\\Anaconda3\\lib\\site-packages\\IPython\\core\\ultratb.py\", line 818, in format_exception_as_a_whole\n",
      "    frames.append(self.format_record(r))\n",
      "  File \"C:\\ProgramData\\Anaconda3\\lib\\site-packages\\IPython\\core\\ultratb.py\", line 736, in format_record\n",
      "    result += ''.join(_format_traceback_lines(frame_info.lines, Colors, self.has_colors, lvals))\n",
      "  File \"C:\\ProgramData\\Anaconda3\\lib\\site-packages\\stack_data\\utils.py\", line 145, in cached_property_wrapper\n",
      "    value = obj.__dict__[self.func.__name__] = self.func(obj)\n",
      "  File \"C:\\ProgramData\\Anaconda3\\lib\\site-packages\\stack_data\\core.py\", line 698, in lines\n",
      "    pieces = self.included_pieces\n",
      "  File \"C:\\ProgramData\\Anaconda3\\lib\\site-packages\\stack_data\\utils.py\", line 145, in cached_property_wrapper\n",
      "    value = obj.__dict__[self.func.__name__] = self.func(obj)\n",
      "  File \"C:\\ProgramData\\Anaconda3\\lib\\site-packages\\stack_data\\core.py\", line 649, in included_pieces\n",
      "    pos = scope_pieces.index(self.executing_piece)\n",
      "  File \"C:\\ProgramData\\Anaconda3\\lib\\site-packages\\stack_data\\utils.py\", line 145, in cached_property_wrapper\n",
      "    value = obj.__dict__[self.func.__name__] = self.func(obj)\n",
      "  File \"C:\\ProgramData\\Anaconda3\\lib\\site-packages\\stack_data\\core.py\", line 628, in executing_piece\n",
      "    return only(\n",
      "  File \"C:\\ProgramData\\Anaconda3\\lib\\site-packages\\executing\\executing.py\", line 164, in only\n",
      "    raise NotOneValueFound('Expected one value, found 0')\n",
      "executing.executing.NotOneValueFound: Expected one value, found 0\n"
     ]
    }
   ],
   "source": [
    "from selenium import webdriver\n",
    "from selenium.webdriver.chrome.options import Options\n",
    "from selenium.webdriver.chrome.service import Service\n",
    "from webdriver_manager.chrome import ChromeDriverManager\n",
    "\n",
    "options = Options()\n",
    "options.add_argument(\"start-maximized\")\n",
    "sdriver = webdriver.Chrome(executable_path='C:\\Program Files\\Chrome Driver\\chromedriver.exe')\n",
    "driver.get(\"https://www.google.com\")"
   ]
  },
  {
   "cell_type": "code",
   "execution_count": 25,
   "id": "d853c1cd",
   "metadata": {},
   "outputs": [],
   "source": [
    "executable_path = {'executable_path': 'chromedriver.exe'}\n",
    "\n"
   ]
  },
  {
   "cell_type": "code",
   "execution_count": 26,
   "id": "52c92abb",
   "metadata": {},
   "outputs": [
    {
     "name": "stdout",
     "output_type": "stream",
     "text": [
      "Defaulting to user installation because normal site-packages is not writeable\n",
      "Collecting browser\n",
      "  Using cached browser-0.0.1-py3-none-any.whl\n",
      "Requirement already satisfied: selenium==3.141.0 in c:\\users\\mstas\\appdata\\roaming\\python\\python39\\site-packages (from browser) (3.141.0)\n",
      "Requirement already satisfied: PyVirtualDisplay==0.2.4 in c:\\users\\mstas\\appdata\\roaming\\python\\python39\\site-packages (from browser) (0.2.4)\n",
      "Collecting cssselect==1.0.3\n",
      "  Using cached cssselect-1.0.3-py2.py3-none-any.whl (16 kB)\n",
      "Collecting lxml==4.5.0\n",
      "  Using cached lxml-4.5.0.tar.gz (4.5 MB)\n",
      "Requirement already satisfied: EasyProcess in c:\\users\\mstas\\appdata\\roaming\\python\\python39\\site-packages (from PyVirtualDisplay==0.2.4->browser) (1.1)\n",
      "Requirement already satisfied: urllib3 in c:\\programdata\\anaconda3\\lib\\site-packages (from selenium==3.141.0->browser) (1.26.9)\n",
      "Building wheels for collected packages: lxml\n",
      "  Building wheel for lxml (setup.py): started\n",
      "  Building wheel for lxml (setup.py): finished with status 'error'\n",
      "  Running setup.py clean for lxml\n",
      "Failed to build lxml\n",
      "Installing collected packages: lxml, cssselect, browser\n",
      "    Running setup.py install for lxml: started\n",
      "    Running setup.py install for lxml: finished with status 'error'\n",
      "Note: you may need to restart the kernel to use updated packages.\n"
     ]
    },
    {
     "name": "stderr",
     "output_type": "stream",
     "text": [
      "  ERROR: Command errored out with exit status 1:\n",
      "   command: 'C:\\ProgramData\\Anaconda3\\python.exe' -u -c 'import io, os, sys, setuptools, tokenize; sys.argv[0] = '\"'\"'C:\\\\Users\\\\mstas\\\\AppData\\\\Local\\\\Temp\\\\pip-install-1qw0fw2l\\\\lxml_c66e5010af114d93a5de71589bac4685\\\\setup.py'\"'\"'; __file__='\"'\"'C:\\\\Users\\\\mstas\\\\AppData\\\\Local\\\\Temp\\\\pip-install-1qw0fw2l\\\\lxml_c66e5010af114d93a5de71589bac4685\\\\setup.py'\"'\"';f = getattr(tokenize, '\"'\"'open'\"'\"', open)(__file__) if os.path.exists(__file__) else io.StringIO('\"'\"'from setuptools import setup; setup()'\"'\"');code = f.read().replace('\"'\"'\\r\\n'\"'\"', '\"'\"'\\n'\"'\"');f.close();exec(compile(code, __file__, '\"'\"'exec'\"'\"'))' bdist_wheel -d 'C:\\Users\\mstas\\AppData\\Local\\Temp\\pip-wheel-lmr8kd76'\n",
      "       cwd: C:\\Users\\mstas\\AppData\\Local\\Temp\\pip-install-1qw0fw2l\\lxml_c66e5010af114d93a5de71589bac4685\\\n",
      "  Complete output (77 lines):\n",
      "  Building lxml version 4.5.0.\n",
      "  Building without Cython.\n",
      "  ERROR: b\"'xslt-config' is not recognized as an internal or external command,\\r\\noperable program or batch file.\\r\\n\"\n",
      "  ** make sure the development packages of libxml2 and libxslt are installed **\n",
      "  \n",
      "  Using build configuration of libxslt\n",
      "  running bdist_wheel\n",
      "  running build\n",
      "  running build_py\n",
      "  creating build\n",
      "  creating build\\lib.win-amd64-3.9\n",
      "  creating build\\lib.win-amd64-3.9\\lxml\n",
      "  copying src\\lxml\\builder.py -> build\\lib.win-amd64-3.9\\lxml\n",
      "  copying src\\lxml\\cssselect.py -> build\\lib.win-amd64-3.9\\lxml\n",
      "  copying src\\lxml\\doctestcompare.py -> build\\lib.win-amd64-3.9\\lxml\n",
      "  copying src\\lxml\\ElementInclude.py -> build\\lib.win-amd64-3.9\\lxml\n",
      "  copying src\\lxml\\pyclasslookup.py -> build\\lib.win-amd64-3.9\\lxml\n",
      "  copying src\\lxml\\sax.py -> build\\lib.win-amd64-3.9\\lxml\n",
      "  copying src\\lxml\\usedoctest.py -> build\\lib.win-amd64-3.9\\lxml\n",
      "  copying src\\lxml\\_elementpath.py -> build\\lib.win-amd64-3.9\\lxml\n",
      "  copying src\\lxml\\__init__.py -> build\\lib.win-amd64-3.9\\lxml\n",
      "  creating build\\lib.win-amd64-3.9\\lxml\\includes\n",
      "  copying src\\lxml\\includes\\__init__.py -> build\\lib.win-amd64-3.9\\lxml\\includes\n",
      "  creating build\\lib.win-amd64-3.9\\lxml\\html\n",
      "  copying src\\lxml\\html\\builder.py -> build\\lib.win-amd64-3.9\\lxml\\html\n",
      "  copying src\\lxml\\html\\clean.py -> build\\lib.win-amd64-3.9\\lxml\\html\n",
      "  copying src\\lxml\\html\\defs.py -> build\\lib.win-amd64-3.9\\lxml\\html\n",
      "  copying src\\lxml\\html\\diff.py -> build\\lib.win-amd64-3.9\\lxml\\html\n",
      "  copying src\\lxml\\html\\ElementSoup.py -> build\\lib.win-amd64-3.9\\lxml\\html\n",
      "  copying src\\lxml\\html\\formfill.py -> build\\lib.win-amd64-3.9\\lxml\\html\n",
      "  copying src\\lxml\\html\\html5parser.py -> build\\lib.win-amd64-3.9\\lxml\\html\n",
      "  copying src\\lxml\\html\\soupparser.py -> build\\lib.win-amd64-3.9\\lxml\\html\n",
      "  copying src\\lxml\\html\\usedoctest.py -> build\\lib.win-amd64-3.9\\lxml\\html\n",
      "  copying src\\lxml\\html\\_diffcommand.py -> build\\lib.win-amd64-3.9\\lxml\\html\n",
      "  copying src\\lxml\\html\\_html5builder.py -> build\\lib.win-amd64-3.9\\lxml\\html\n",
      "  copying src\\lxml\\html\\_setmixin.py -> build\\lib.win-amd64-3.9\\lxml\\html\n",
      "  copying src\\lxml\\html\\__init__.py -> build\\lib.win-amd64-3.9\\lxml\\html\n",
      "  creating build\\lib.win-amd64-3.9\\lxml\\isoschematron\n",
      "  copying src\\lxml\\isoschematron\\__init__.py -> build\\lib.win-amd64-3.9\\lxml\\isoschematron\n",
      "  copying src\\lxml\\etree.h -> build\\lib.win-amd64-3.9\\lxml\n",
      "  copying src\\lxml\\etree_api.h -> build\\lib.win-amd64-3.9\\lxml\n",
      "  copying src\\lxml\\lxml.etree.h -> build\\lib.win-amd64-3.9\\lxml\n",
      "  copying src\\lxml\\lxml.etree_api.h -> build\\lib.win-amd64-3.9\\lxml\n",
      "  copying src\\lxml\\includes\\c14n.pxd -> build\\lib.win-amd64-3.9\\lxml\\includes\n",
      "  copying src\\lxml\\includes\\config.pxd -> build\\lib.win-amd64-3.9\\lxml\\includes\n",
      "  copying src\\lxml\\includes\\dtdvalid.pxd -> build\\lib.win-amd64-3.9\\lxml\\includes\n",
      "  copying src\\lxml\\includes\\etreepublic.pxd -> build\\lib.win-amd64-3.9\\lxml\\includes\n",
      "  copying src\\lxml\\includes\\htmlparser.pxd -> build\\lib.win-amd64-3.9\\lxml\\includes\n",
      "  copying src\\lxml\\includes\\relaxng.pxd -> build\\lib.win-amd64-3.9\\lxml\\includes\n",
      "  copying src\\lxml\\includes\\schematron.pxd -> build\\lib.win-amd64-3.9\\lxml\\includes\n",
      "  copying src\\lxml\\includes\\tree.pxd -> build\\lib.win-amd64-3.9\\lxml\\includes\n",
      "  copying src\\lxml\\includes\\uri.pxd -> build\\lib.win-amd64-3.9\\lxml\\includes\n",
      "  copying src\\lxml\\includes\\xinclude.pxd -> build\\lib.win-amd64-3.9\\lxml\\includes\n",
      "  copying src\\lxml\\includes\\xmlerror.pxd -> build\\lib.win-amd64-3.9\\lxml\\includes\n",
      "  copying src\\lxml\\includes\\xmlparser.pxd -> build\\lib.win-amd64-3.9\\lxml\\includes\n",
      "  copying src\\lxml\\includes\\xmlschema.pxd -> build\\lib.win-amd64-3.9\\lxml\\includes\n",
      "  copying src\\lxml\\includes\\xpath.pxd -> build\\lib.win-amd64-3.9\\lxml\\includes\n",
      "  copying src\\lxml\\includes\\xslt.pxd -> build\\lib.win-amd64-3.9\\lxml\\includes\n",
      "  copying src\\lxml\\includes\\__init__.pxd -> build\\lib.win-amd64-3.9\\lxml\\includes\n",
      "  copying src\\lxml\\includes\\etree_defs.h -> build\\lib.win-amd64-3.9\\lxml\\includes\n",
      "  copying src\\lxml\\includes\\lxml-version.h -> build\\lib.win-amd64-3.9\\lxml\\includes\n",
      "  creating build\\lib.win-amd64-3.9\\lxml\\isoschematron\\resources\n",
      "  creating build\\lib.win-amd64-3.9\\lxml\\isoschematron\\resources\\rng\n",
      "  copying src\\lxml\\isoschematron\\resources\\rng\\iso-schematron.rng -> build\\lib.win-amd64-3.9\\lxml\\isoschematron\\resources\\rng\n",
      "  creating build\\lib.win-amd64-3.9\\lxml\\isoschematron\\resources\\xsl\n",
      "  copying src\\lxml\\isoschematron\\resources\\xsl\\RNG2Schtrn.xsl -> build\\lib.win-amd64-3.9\\lxml\\isoschematron\\resources\\xsl\n",
      "  copying src\\lxml\\isoschematron\\resources\\xsl\\XSD2Schtrn.xsl -> build\\lib.win-amd64-3.9\\lxml\\isoschematron\\resources\\xsl\n",
      "  creating build\\lib.win-amd64-3.9\\lxml\\isoschematron\\resources\\xsl\\iso-schematron-xslt1\n",
      "  copying src\\lxml\\isoschematron\\resources\\xsl\\iso-schematron-xslt1\\iso_abstract_expand.xsl -> build\\lib.win-amd64-3.9\\lxml\\isoschematron\\resources\\xsl\\iso-schematron-xslt1\n",
      "  copying src\\lxml\\isoschematron\\resources\\xsl\\iso-schematron-xslt1\\iso_dsdl_include.xsl -> build\\lib.win-amd64-3.9\\lxml\\isoschematron\\resources\\xsl\\iso-schematron-xslt1\n",
      "  copying src\\lxml\\isoschematron\\resources\\xsl\\iso-schematron-xslt1\\iso_schematron_message.xsl -> build\\lib.win-amd64-3.9\\lxml\\isoschematron\\resources\\xsl\\iso-schematron-xslt1\n",
      "  copying src\\lxml\\isoschematron\\resources\\xsl\\iso-schematron-xslt1\\iso_schematron_skeleton_for_xslt1.xsl -> build\\lib.win-amd64-3.9\\lxml\\isoschematron\\resources\\xsl\\iso-schematron-xslt1\n",
      "  copying src\\lxml\\isoschematron\\resources\\xsl\\iso-schematron-xslt1\\iso_svrl_for_xslt1.xsl -> build\\lib.win-amd64-3.9\\lxml\\isoschematron\\resources\\xsl\\iso-schematron-xslt1\n",
      "  copying src\\lxml\\isoschematron\\resources\\xsl\\iso-schematron-xslt1\\readme.txt -> build\\lib.win-amd64-3.9\\lxml\\isoschematron\\resources\\xsl\\iso-schematron-xslt1\n",
      "  running build_ext\n",
      "  building 'lxml.etree' extension\n",
      "  error: Microsoft Visual C++ 14.0 or greater is required. Get it with \"Microsoft C++ Build Tools\": https://visualstudio.microsoft.com/visual-cpp-build-tools/\n",
      "  ----------------------------------------\n",
      "  ERROR: Failed building wheel for lxml\n",
      "    ERROR: Command errored out with exit status 1:\n",
      "     command: 'C:\\ProgramData\\Anaconda3\\python.exe' -u -c 'import io, os, sys, setuptools, tokenize; sys.argv[0] = '\"'\"'C:\\\\Users\\\\mstas\\\\AppData\\\\Local\\\\Temp\\\\pip-install-1qw0fw2l\\\\lxml_c66e5010af114d93a5de71589bac4685\\\\setup.py'\"'\"'; __file__='\"'\"'C:\\\\Users\\\\mstas\\\\AppData\\\\Local\\\\Temp\\\\pip-install-1qw0fw2l\\\\lxml_c66e5010af114d93a5de71589bac4685\\\\setup.py'\"'\"';f = getattr(tokenize, '\"'\"'open'\"'\"', open)(__file__) if os.path.exists(__file__) else io.StringIO('\"'\"'from setuptools import setup; setup()'\"'\"');code = f.read().replace('\"'\"'\\r\\n'\"'\"', '\"'\"'\\n'\"'\"');f.close();exec(compile(code, __file__, '\"'\"'exec'\"'\"'))' install --record 'C:\\Users\\mstas\\AppData\\Local\\Temp\\pip-record-e3ugq26c\\install-record.txt' --single-version-externally-managed --user --prefix= --compile --install-headers 'C:\\Users\\mstas\\AppData\\Roaming\\Python\\Python39\\Include\\lxml'\n",
      "         cwd: C:\\Users\\mstas\\AppData\\Local\\Temp\\pip-install-1qw0fw2l\\lxml_c66e5010af114d93a5de71589bac4685\\\n",
      "    Complete output (79 lines):\n",
      "    Building lxml version 4.5.0.\n",
      "    Building without Cython.\n",
      "    ERROR: b\"'xslt-config' is not recognized as an internal or external command,\\r\\noperable program or batch file.\\r\\n\"\n",
      "    ** make sure the development packages of libxml2 and libxslt are installed **\n",
      "    \n",
      "    Using build configuration of libxslt\n",
      "    running install\n",
      "    C:\\ProgramData\\Anaconda3\\lib\\site-packages\\setuptools\\command\\install.py:34: SetuptoolsDeprecationWarning: setup.py install is deprecated. Use build and pip and other standards-based tools.\n",
      "      warnings.warn(\n",
      "    running build\n",
      "    running build_py\n",
      "    creating build\n",
      "    creating build\\lib.win-amd64-3.9\n",
      "    creating build\\lib.win-amd64-3.9\\lxml\n",
      "    copying src\\lxml\\builder.py -> build\\lib.win-amd64-3.9\\lxml\n",
      "    copying src\\lxml\\cssselect.py -> build\\lib.win-amd64-3.9\\lxml\n",
      "    copying src\\lxml\\doctestcompare.py -> build\\lib.win-amd64-3.9\\lxml\n",
      "    copying src\\lxml\\ElementInclude.py -> build\\lib.win-amd64-3.9\\lxml\n",
      "    copying src\\lxml\\pyclasslookup.py -> build\\lib.win-amd64-3.9\\lxml\n",
      "    copying src\\lxml\\sax.py -> build\\lib.win-amd64-3.9\\lxml\n",
      "    copying src\\lxml\\usedoctest.py -> build\\lib.win-amd64-3.9\\lxml\n",
      "    copying src\\lxml\\_elementpath.py -> build\\lib.win-amd64-3.9\\lxml\n",
      "    copying src\\lxml\\__init__.py -> build\\lib.win-amd64-3.9\\lxml\n",
      "    creating build\\lib.win-amd64-3.9\\lxml\\includes\n",
      "    copying src\\lxml\\includes\\__init__.py -> build\\lib.win-amd64-3.9\\lxml\\includes\n",
      "    creating build\\lib.win-amd64-3.9\\lxml\\html\n",
      "    copying src\\lxml\\html\\builder.py -> build\\lib.win-amd64-3.9\\lxml\\html\n",
      "    copying src\\lxml\\html\\clean.py -> build\\lib.win-amd64-3.9\\lxml\\html\n",
      "    copying src\\lxml\\html\\defs.py -> build\\lib.win-amd64-3.9\\lxml\\html\n",
      "    copying src\\lxml\\html\\diff.py -> build\\lib.win-amd64-3.9\\lxml\\html\n",
      "    copying src\\lxml\\html\\ElementSoup.py -> build\\lib.win-amd64-3.9\\lxml\\html\n",
      "    copying src\\lxml\\html\\formfill.py -> build\\lib.win-amd64-3.9\\lxml\\html\n",
      "    copying src\\lxml\\html\\html5parser.py -> build\\lib.win-amd64-3.9\\lxml\\html\n",
      "    copying src\\lxml\\html\\soupparser.py -> build\\lib.win-amd64-3.9\\lxml\\html\n",
      "    copying src\\lxml\\html\\usedoctest.py -> build\\lib.win-amd64-3.9\\lxml\\html\n",
      "    copying src\\lxml\\html\\_diffcommand.py -> build\\lib.win-amd64-3.9\\lxml\\html\n",
      "    copying src\\lxml\\html\\_html5builder.py -> build\\lib.win-amd64-3.9\\lxml\\html\n",
      "    copying src\\lxml\\html\\_setmixin.py -> build\\lib.win-amd64-3.9\\lxml\\html\n",
      "    copying src\\lxml\\html\\__init__.py -> build\\lib.win-amd64-3.9\\lxml\\html\n",
      "    creating build\\lib.win-amd64-3.9\\lxml\\isoschematron\n",
      "    copying src\\lxml\\isoschematron\\__init__.py -> build\\lib.win-amd64-3.9\\lxml\\isoschematron\n",
      "    copying src\\lxml\\etree.h -> build\\lib.win-amd64-3.9\\lxml\n",
      "    copying src\\lxml\\etree_api.h -> build\\lib.win-amd64-3.9\\lxml\n",
      "    copying src\\lxml\\lxml.etree.h -> build\\lib.win-amd64-3.9\\lxml\n",
      "    copying src\\lxml\\lxml.etree_api.h -> build\\lib.win-amd64-3.9\\lxml\n",
      "    copying src\\lxml\\includes\\c14n.pxd -> build\\lib.win-amd64-3.9\\lxml\\includes\n",
      "    copying src\\lxml\\includes\\config.pxd -> build\\lib.win-amd64-3.9\\lxml\\includes\n",
      "    copying src\\lxml\\includes\\dtdvalid.pxd -> build\\lib.win-amd64-3.9\\lxml\\includes\n",
      "    copying src\\lxml\\includes\\etreepublic.pxd -> build\\lib.win-amd64-3.9\\lxml\\includes\n",
      "    copying src\\lxml\\includes\\htmlparser.pxd -> build\\lib.win-amd64-3.9\\lxml\\includes\n",
      "    copying src\\lxml\\includes\\relaxng.pxd -> build\\lib.win-amd64-3.9\\lxml\\includes\n",
      "    copying src\\lxml\\includes\\schematron.pxd -> build\\lib.win-amd64-3.9\\lxml\\includes\n",
      "    copying src\\lxml\\includes\\tree.pxd -> build\\lib.win-amd64-3.9\\lxml\\includes\n",
      "    copying src\\lxml\\includes\\uri.pxd -> build\\lib.win-amd64-3.9\\lxml\\includes\n",
      "    copying src\\lxml\\includes\\xinclude.pxd -> build\\lib.win-amd64-3.9\\lxml\\includes\n",
      "    copying src\\lxml\\includes\\xmlerror.pxd -> build\\lib.win-amd64-3.9\\lxml\\includes\n",
      "    copying src\\lxml\\includes\\xmlparser.pxd -> build\\lib.win-amd64-3.9\\lxml\\includes\n",
      "    copying src\\lxml\\includes\\xmlschema.pxd -> build\\lib.win-amd64-3.9\\lxml\\includes\n",
      "    copying src\\lxml\\includes\\xpath.pxd -> build\\lib.win-amd64-3.9\\lxml\\includes\n",
      "    copying src\\lxml\\includes\\xslt.pxd -> build\\lib.win-amd64-3.9\\lxml\\includes\n",
      "    copying src\\lxml\\includes\\__init__.pxd -> build\\lib.win-amd64-3.9\\lxml\\includes\n",
      "    copying src\\lxml\\includes\\etree_defs.h -> build\\lib.win-amd64-3.9\\lxml\\includes\n",
      "    copying src\\lxml\\includes\\lxml-version.h -> build\\lib.win-amd64-3.9\\lxml\\includes\n",
      "    creating build\\lib.win-amd64-3.9\\lxml\\isoschematron\\resources\n",
      "    creating build\\lib.win-amd64-3.9\\lxml\\isoschematron\\resources\\rng\n",
      "    copying src\\lxml\\isoschematron\\resources\\rng\\iso-schematron.rng -> build\\lib.win-amd64-3.9\\lxml\\isoschematron\\resources\\rng\n",
      "    creating build\\lib.win-amd64-3.9\\lxml\\isoschematron\\resources\\xsl\n",
      "    copying src\\lxml\\isoschematron\\resources\\xsl\\RNG2Schtrn.xsl -> build\\lib.win-amd64-3.9\\lxml\\isoschematron\\resources\\xsl\n",
      "    copying src\\lxml\\isoschematron\\resources\\xsl\\XSD2Schtrn.xsl -> build\\lib.win-amd64-3.9\\lxml\\isoschematron\\resources\\xsl\n",
      "    creating build\\lib.win-amd64-3.9\\lxml\\isoschematron\\resources\\xsl\\iso-schematron-xslt1\n",
      "    copying src\\lxml\\isoschematron\\resources\\xsl\\iso-schematron-xslt1\\iso_abstract_expand.xsl -> build\\lib.win-amd64-3.9\\lxml\\isoschematron\\resources\\xsl\\iso-schematron-xslt1\n",
      "    copying src\\lxml\\isoschematron\\resources\\xsl\\iso-schematron-xslt1\\iso_dsdl_include.xsl -> build\\lib.win-amd64-3.9\\lxml\\isoschematron\\resources\\xsl\\iso-schematron-xslt1\n",
      "    copying src\\lxml\\isoschematron\\resources\\xsl\\iso-schematron-xslt1\\iso_schematron_message.xsl -> build\\lib.win-amd64-3.9\\lxml\\isoschematron\\resources\\xsl\\iso-schematron-xslt1\n",
      "    copying src\\lxml\\isoschematron\\resources\\xsl\\iso-schematron-xslt1\\iso_schematron_skeleton_for_xslt1.xsl -> build\\lib.win-amd64-3.9\\lxml\\isoschematron\\resources\\xsl\\iso-schematron-xslt1\n",
      "    copying src\\lxml\\isoschematron\\resources\\xsl\\iso-schematron-xslt1\\iso_svrl_for_xslt1.xsl -> build\\lib.win-amd64-3.9\\lxml\\isoschematron\\resources\\xsl\\iso-schematron-xslt1\n",
      "    copying src\\lxml\\isoschematron\\resources\\xsl\\iso-schematron-xslt1\\readme.txt -> build\\lib.win-amd64-3.9\\lxml\\isoschematron\\resources\\xsl\\iso-schematron-xslt1\n",
      "    running build_ext\n",
      "    building 'lxml.etree' extension\n",
      "    error: Microsoft Visual C++ 14.0 or greater is required. Get it with \"Microsoft C++ Build Tools\": https://visualstudio.microsoft.com/visual-cpp-build-tools/\n",
      "    ----------------------------------------\n",
      "ERROR: Command errored out with exit status 1: 'C:\\ProgramData\\Anaconda3\\python.exe' -u -c 'import io, os, sys, setuptools, tokenize; sys.argv[0] = '\"'\"'C:\\\\Users\\\\mstas\\\\AppData\\\\Local\\\\Temp\\\\pip-install-1qw0fw2l\\\\lxml_c66e5010af114d93a5de71589bac4685\\\\setup.py'\"'\"'; __file__='\"'\"'C:\\\\Users\\\\mstas\\\\AppData\\\\Local\\\\Temp\\\\pip-install-1qw0fw2l\\\\lxml_c66e5010af114d93a5de71589bac4685\\\\setup.py'\"'\"';f = getattr(tokenize, '\"'\"'open'\"'\"', open)(__file__) if os.path.exists(__file__) else io.StringIO('\"'\"'from setuptools import setup; setup()'\"'\"');code = f.read().replace('\"'\"'\\r\\n'\"'\"', '\"'\"'\\n'\"'\"');f.close();exec(compile(code, __file__, '\"'\"'exec'\"'\"'))' install --record 'C:\\Users\\mstas\\AppData\\Local\\Temp\\pip-record-e3ugq26c\\install-record.txt' --single-version-externally-managed --user --prefix= --compile --install-headers 'C:\\Users\\mstas\\AppData\\Roaming\\Python\\Python39\\Include\\lxml' Check the logs for full command output.\n"
     ]
    }
   ],
   "source": [
    "pip install browser"
   ]
  },
  {
   "cell_type": "code",
   "execution_count": 27,
   "id": "de4fbc54",
   "metadata": {},
   "outputs": [],
   "source": [
    "from splinter import Browser"
   ]
  },
  {
   "cell_type": "code",
   "execution_count": 28,
   "id": "ff021abc",
   "metadata": {},
   "outputs": [
    {
     "ename": "NameError",
     "evalue": "name 'browser' is not defined",
     "output_type": "error",
     "traceback": [
      "\u001b[1;31m---------------------------------------------------------------------------\u001b[0m",
      "\u001b[1;31mNameError\u001b[0m                                 Traceback (most recent call last)",
      "Input \u001b[1;32mIn [28]\u001b[0m, in \u001b[0;36m<cell line: 2>\u001b[1;34m()\u001b[0m\n\u001b[0;32m      1\u001b[0m news_url \u001b[38;5;241m=\u001b[39m \u001b[38;5;124m'\u001b[39m\u001b[38;5;124mhttps://redplanetscience.com/\u001b[39m\u001b[38;5;124m'\u001b[39m\n\u001b[1;32m----> 2\u001b[0m \u001b[43mbrowser\u001b[49m\u001b[38;5;241m.\u001b[39mvisit(news_url)\n\u001b[0;32m      3\u001b[0m html \u001b[38;5;241m=\u001b[39m browser\u001b[38;5;241m.\u001b[39mhtml\n\u001b[0;32m      4\u001b[0m news_soup \u001b[38;5;241m=\u001b[39m BeautifulSoup(html, \u001b[38;5;124m'\u001b[39m\u001b[38;5;124mhtml.parser\u001b[39m\u001b[38;5;124m'\u001b[39m)\n",
      "\u001b[1;31mNameError\u001b[0m: name 'browser' is not defined"
     ]
    }
   ],
   "source": [
    "news_url = 'https://redplanetscience.com/'\n",
    "browser.visit(news_url)\n",
    "html = browser.html\n",
    "news_soup = BeautifulSoup(html, 'html.parser')"
   ]
  },
  {
   "cell_type": "code",
   "execution_count": null,
   "id": "92bc6c4c",
   "metadata": {},
   "outputs": [],
   "source": []
  },
  {
   "cell_type": "code",
   "execution_count": null,
   "id": "efb16071",
   "metadata": {},
   "outputs": [],
   "source": []
  }
 ],
 "metadata": {
  "kernelspec": {
   "display_name": "Python 3 (ipykernel)",
   "language": "python",
   "name": "python3"
  },
  "language_info": {
   "codemirror_mode": {
    "name": "ipython",
    "version": 3
   },
   "file_extension": ".py",
   "mimetype": "text/x-python",
   "name": "python",
   "nbconvert_exporter": "python",
   "pygments_lexer": "ipython3",
   "version": "3.9.12"
  }
 },
 "nbformat": 4,
 "nbformat_minor": 5
}
