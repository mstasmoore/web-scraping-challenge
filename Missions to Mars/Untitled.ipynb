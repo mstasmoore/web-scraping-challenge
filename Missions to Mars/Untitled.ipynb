{
 "cells": [
  {
   "cell_type": "code",
   "execution_count": 4,
   "id": "080ca608",
   "metadata": {},
   "outputs": [],
   "source": [
    "from splinter import Browser\n",
    "from bs4 import BeautifulSoup\n",
    "import pandas as pd\n",
    "import requests\n",
    "import pymongo\n",
    "from flask import Flask, render_template, redirect\n"
   ]
  },
  {
   "cell_type": "code",
   "execution_count": 5,
   "id": "77085f56",
   "metadata": {},
   "outputs": [
    {
     "name": "stdout",
     "output_type": "stream",
     "text": [
      "Defaulting to user installation because normal site-packages is not writeable\n",
      "Requirement already satisfied: Flask-PyMongo in c:\\users\\mstas\\appdata\\roaming\\python\\python39\\site-packages (2.3.0)\n",
      "Requirement already satisfied: PyMongo>=3.3 in c:\\users\\mstas\\appdata\\roaming\\python\\python39\\site-packages (from Flask-PyMongo) (4.2.0)\n",
      "Requirement already satisfied: Flask>=0.11 in c:\\programdata\\anaconda3\\lib\\site-packages (from Flask-PyMongo) (1.1.2)\n",
      "Requirement already satisfied: Werkzeug>=0.15 in c:\\programdata\\anaconda3\\lib\\site-packages (from Flask>=0.11->Flask-PyMongo) (2.0.3)\n",
      "Requirement already satisfied: Jinja2>=2.10.1 in c:\\programdata\\anaconda3\\lib\\site-packages (from Flask>=0.11->Flask-PyMongo) (2.11.3)\n",
      "Requirement already satisfied: itsdangerous>=0.24 in c:\\programdata\\anaconda3\\lib\\site-packages (from Flask>=0.11->Flask-PyMongo) (2.0.1)\n",
      "Requirement already satisfied: click>=5.1 in c:\\programdata\\anaconda3\\lib\\site-packages (from Flask>=0.11->Flask-PyMongo) (8.0.4)\n",
      "Requirement already satisfied: colorama in c:\\programdata\\anaconda3\\lib\\site-packages (from click>=5.1->Flask>=0.11->Flask-PyMongo) (0.4.4)\n",
      "Requirement already satisfied: MarkupSafe>=0.23 in c:\\programdata\\anaconda3\\lib\\site-packages (from Jinja2>=2.10.1->Flask>=0.11->Flask-PyMongo) (2.0.1)\n",
      "Note: you may need to restart the kernel to use updated packages.\n"
     ]
    }
   ],
   "source": [
    "pip install Flask-PyMongo"
   ]
  },
  {
   "cell_type": "code",
   "execution_count": 6,
   "id": "3c78c480",
   "metadata": {},
   "outputs": [],
   "source": [
    "from flask_pymongo import PyMongo"
   ]
  },
  {
   "cell_type": "code",
   "execution_count": 20,
   "id": "efb32e99",
   "metadata": {},
   "outputs": [
    {
     "name": "stdout",
     "output_type": "stream",
     "text": [
      "Defaulting to user installation because normal site-packages is not writeable\n",
      "Requirement already satisfied: selenium in c:\\users\\mstas\\appdata\\roaming\\python\\python39\\site-packages (4.4.3)\n",
      "Requirement already satisfied: urllib3[socks]~=1.26 in c:\\programdata\\anaconda3\\lib\\site-packages (from selenium) (1.26.9)\n",
      "Requirement already satisfied: certifi>=2021.10.8 in c:\\programdata\\anaconda3\\lib\\site-packages (from selenium) (2021.10.8)\n",
      "Requirement already satisfied: trio~=0.17 in c:\\users\\mstas\\appdata\\roaming\\python\\python39\\site-packages (from selenium) (0.21.0)\n",
      "Requirement already satisfied: trio-websocket~=0.9 in c:\\users\\mstas\\appdata\\roaming\\python\\python39\\site-packages (from selenium) (0.9.2)\n",
      "Requirement already satisfied: async-generator>=1.9 in c:\\users\\mstas\\appdata\\roaming\\python\\python39\\site-packages (from trio~=0.17->selenium) (1.10)\n",
      "Requirement already satisfied: sortedcontainers in c:\\programdata\\anaconda3\\lib\\site-packages (from trio~=0.17->selenium) (2.4.0)\n",
      "Requirement already satisfied: idna in c:\\programdata\\anaconda3\\lib\\site-packages (from trio~=0.17->selenium) (3.3)\n",
      "Requirement already satisfied: sniffio in c:\\programdata\\anaconda3\\lib\\site-packages (from trio~=0.17->selenium) (1.2.0)\n",
      "Requirement already satisfied: attrs>=19.2.0 in c:\\programdata\\anaconda3\\lib\\site-packages (from trio~=0.17->selenium) (21.4.0)\n",
      "Requirement already satisfied: outcome in c:\\users\\mstas\\appdata\\roaming\\python\\python39\\site-packages (from trio~=0.17->selenium) (1.2.0)\n",
      "Requirement already satisfied: cffi>=1.14 in c:\\programdata\\anaconda3\\lib\\site-packages (from trio~=0.17->selenium) (1.15.0)\n",
      "Requirement already satisfied: pycparser in c:\\programdata\\anaconda3\\lib\\site-packages (from cffi>=1.14->trio~=0.17->selenium) (2.21)\n",
      "Requirement already satisfied: wsproto>=0.14 in c:\\users\\mstas\\appdata\\roaming\\python\\python39\\site-packages (from trio-websocket~=0.9->selenium) (1.2.0)\n",
      "Requirement already satisfied: PySocks!=1.5.7,<2.0,>=1.5.6 in c:\\programdata\\anaconda3\\lib\\site-packages (from urllib3[socks]~=1.26->selenium) (1.7.1)\n",
      "Requirement already satisfied: h11<1,>=0.9.0 in c:\\users\\mstas\\appdata\\roaming\\python\\python39\\site-packages (from wsproto>=0.14->trio-websocket~=0.9->selenium) (0.13.0)\n",
      "Note: you may need to restart the kernel to use updated packages.\n"
     ]
    }
   ],
   "source": [
    "\n",
    "pip install -U selenium"
   ]
  },
  {
   "cell_type": "code",
   "execution_count": 22,
   "id": "656dbadc",
   "metadata": {},
   "outputs": [
    {
     "name": "stdout",
     "output_type": "stream",
     "text": [
      "Defaulting to user installation because normal site-packages is not writeableNote: you may need to restart the kernel to use updated packages.\n",
      "\n",
      "Requirement already satisfied: webdriver-manager in c:\\users\\mstas\\appdata\\roaming\\python\\python39\\site-packages (3.8.3)\n",
      "Requirement already satisfied: requests in c:\\programdata\\anaconda3\\lib\\site-packages (from webdriver-manager) (2.27.1)\n",
      "Requirement already satisfied: python-dotenv in c:\\users\\mstas\\appdata\\roaming\\python\\python39\\site-packages (from webdriver-manager) (0.21.0)\n",
      "Requirement already satisfied: tqdm in c:\\programdata\\anaconda3\\lib\\site-packages (from webdriver-manager) (4.64.0)\n",
      "Requirement already satisfied: idna<4,>=2.5 in c:\\programdata\\anaconda3\\lib\\site-packages (from requests->webdriver-manager) (3.3)\n",
      "Requirement already satisfied: urllib3<1.27,>=1.21.1 in c:\\programdata\\anaconda3\\lib\\site-packages (from requests->webdriver-manager) (1.26.9)\n",
      "Requirement already satisfied: charset-normalizer~=2.0.0 in c:\\programdata\\anaconda3\\lib\\site-packages (from requests->webdriver-manager) (2.0.4)\n",
      "Requirement already satisfied: certifi>=2017.4.17 in c:\\programdata\\anaconda3\\lib\\site-packages (from requests->webdriver-manager) (2021.10.8)\n",
      "Requirement already satisfied: colorama in c:\\programdata\\anaconda3\\lib\\site-packages (from tqdm->webdriver-manager) (0.4.4)\n"
     ]
    }
   ],
   "source": [
    "pip install webdriver-manager"
   ]
  },
  {
   "cell_type": "code",
   "execution_count": 23,
   "id": "5310a2eb",
   "metadata": {},
   "outputs": [],
   "source": [
    "from selenium.webdriver.common.keys import Keys\n",
    "from selenium.webdriver.common.by import By\n",
    "from selenium.webdriver.chrome.options import Options"
   ]
  },
  {
   "cell_type": "code",
   "execution_count": 27,
   "id": "8774a99a",
   "metadata": {},
   "outputs": [
    {
     "name": "stderr",
     "output_type": "stream",
     "text": [
      "[WDM] - Downloading: 100%|████████████████████████████████████████████████████████| 6.21M/6.21M [00:00<00:00, 17.8MB/s]\n"
     ]
    }
   ],
   "source": [
    "from selenium import webdriver\n",
    "from selenium.webdriver.chrome.options import Options\n",
    "from selenium.webdriver.chrome.service import Service\n",
    "from webdriver_manager.chrome import ChromeDriverManager\n",
    "\n",
    "options = Options()\n",
    "options.add_argument(\"start-maximized\")\n",
    "driver = webdriver.Chrome(service=Service(ChromeDriverManager().install()), options=options)\n",
    "driver.get(\"https://www.google.com\")"
   ]
  },
  {
   "cell_type": "code",
   "execution_count": 30,
   "id": "3dfe2cf5",
   "metadata": {},
   "outputs": [],
   "source": [
    "executable_path = {'executable_path': 'chromedriver.exe'}\n"
   ]
  },
  {
   "cell_type": "code",
   "execution_count": 34,
   "id": "59583a52",
   "metadata": {},
   "outputs": [
    {
     "name": "stdout",
     "output_type": "stream",
     "text": [
      "Defaulting to user installation because normal site-packages is not writeableNote: you may need to restart the kernel to use updated packages.\n"
     ]
    },
    {
     "name": "stderr",
     "output_type": "stream",
     "text": [
      "  ERROR: Command errored out with exit status 1:\n",
      "   command: 'C:\\ProgramData\\Anaconda3\\python.exe' -u -c 'import io, os, sys, setuptools, tokenize; sys.argv[0] = '\"'\"'C:\\\\Users\\\\mstas\\\\AppData\\\\Local\\\\Temp\\\\pip-install-0qa60apx\\\\lxml_5fc49d3854c842349a0698f68929553c\\\\setup.py'\"'\"'; __file__='\"'\"'C:\\\\Users\\\\mstas\\\\AppData\\\\Local\\\\Temp\\\\pip-install-0qa60apx\\\\lxml_5fc49d3854c842349a0698f68929553c\\\\setup.py'\"'\"';f = getattr(tokenize, '\"'\"'open'\"'\"', open)(__file__) if os.path.exists(__file__) else io.StringIO('\"'\"'from setuptools import setup; setup()'\"'\"');code = f.read().replace('\"'\"'\\r\\n'\"'\"', '\"'\"'\\n'\"'\"');f.close();exec(compile(code, __file__, '\"'\"'exec'\"'\"'))' bdist_wheel -d 'C:\\Users\\mstas\\AppData\\Local\\Temp\\pip-wheel-oj5534b2'\n",
      "       cwd: C:\\Users\\mstas\\AppData\\Local\\Temp\\pip-install-0qa60apx\\lxml_5fc49d3854c842349a0698f68929553c\\\n",
      "  Complete output (77 lines):\n",
      "  Building lxml version 4.5.0.\n",
      "  Building without Cython.\n",
      "  ERROR: b\"'xslt-config' is not recognized as an internal or external command,\\r\\noperable program or batch file.\\r\\n\"\n",
      "  ** make sure the development packages of libxml2 and libxslt are installed **\n",
      "  \n",
      "  Using build configuration of libxslt\n",
      "  running bdist_wheel\n",
      "  running build\n",
      "  running build_py\n",
      "  creating build\n",
      "  creating build\\lib.win-amd64-3.9\n",
      "  creating build\\lib.win-amd64-3.9\\lxml\n",
      "  copying src\\lxml\\builder.py -> build\\lib.win-amd64-3.9\\lxml\n",
      "  copying src\\lxml\\cssselect.py -> build\\lib.win-amd64-3.9\\lxml\n",
      "  copying src\\lxml\\doctestcompare.py -> build\\lib.win-amd64-3.9\\lxml\n",
      "  copying src\\lxml\\ElementInclude.py -> build\\lib.win-amd64-3.9\\lxml\n",
      "  copying src\\lxml\\pyclasslookup.py -> build\\lib.win-amd64-3.9\\lxml\n",
      "  copying src\\lxml\\sax.py -> build\\lib.win-amd64-3.9\\lxml\n",
      "  copying src\\lxml\\usedoctest.py -> build\\lib.win-amd64-3.9\\lxml\n",
      "  copying src\\lxml\\_elementpath.py -> build\\lib.win-amd64-3.9\\lxml\n",
      "  copying src\\lxml\\__init__.py -> build\\lib.win-amd64-3.9\\lxml\n"
     ]
    },
    {
     "name": "stdout",
     "output_type": "stream",
     "text": [
      "\n",
      "Collecting browser\n",
      "  Downloading browser-0.0.1.tar.gz (2.7 kB)\n",
      "Collecting selenium==3.141.0\n",
      "  Using cached selenium-3.141.0-py2.py3-none-any.whl (904 kB)\n",
      "Collecting lxml==4.5.0\n",
      "  Downloading lxml-4.5.0.tar.gz (4.5 MB)\n",
      "Collecting cssselect==1.0.3\n",
      "  Downloading cssselect-1.0.3-py2.py3-none-any.whl (16 kB)\n",
      "Collecting PyVirtualDisplay==0.2.4\n",
      "  Downloading PyVirtualDisplay-0.2.4-py2.py3-none-any.whl (15 kB)\n",
      "Collecting EasyProcess\n",
      "  Downloading EasyProcess-1.1-py3-none-any.whl (8.7 kB)\n",
      "Requirement already satisfied: urllib3 in c:\\programdata\\anaconda3\\lib\\site-packages (from selenium==3.141.0->browser) (1.26.9)\n",
      "Building wheels for collected packages: browser, lxml\n",
      "  Building wheel for browser (setup.py): started\n",
      "  Building wheel for browser (setup.py): finished with status 'done'\n",
      "  Created wheel for browser: filename=browser-0.0.1-py3-none-any.whl size=3513 sha256=28f41ded0044f861d841edbcb3d12071bef35887faa68930a660f2ce47464738\n",
      "  Stored in directory: c:\\users\\mstas\\appdata\\local\\pip\\cache\\wheels\\88\\c8\\5f\\44571fc2e9ff103258d67847e7422a101df71aa43af6b30aba\n",
      "  Building wheel for lxml (setup.py): started\n",
      "  Building wheel for lxml (setup.py): finished with status 'error'\n",
      "  Running setup.py clean for lxml\n",
      "Successfully built browser\n",
      "Failed to build lxml\n",
      "Installing collected packages: EasyProcess, selenium, PyVirtualDisplay, lxml, cssselect, browser\n",
      "  Attempting uninstall: selenium\n",
      "    Found existing installation: selenium 4.4.3\n",
      "    Uninstalling selenium-4.4.3:\n",
      "      Successfully uninstalled selenium-4.4.3\n",
      "    Running setup.py install for lxml: started\n",
      "    Running setup.py install for lxml: finished with status 'error'\n"
     ]
    },
    {
     "name": "stderr",
     "output_type": "stream",
     "text": [
      "  creating build\\lib.win-amd64-3.9\\lxml\\includes\n",
      "  copying src\\lxml\\includes\\__init__.py -> build\\lib.win-amd64-3.9\\lxml\\includes\n",
      "  creating build\\lib.win-amd64-3.9\\lxml\\html\n",
      "  copying src\\lxml\\html\\builder.py -> build\\lib.win-amd64-3.9\\lxml\\html\n",
      "  copying src\\lxml\\html\\clean.py -> build\\lib.win-amd64-3.9\\lxml\\html\n",
      "  copying src\\lxml\\html\\defs.py -> build\\lib.win-amd64-3.9\\lxml\\html\n",
      "  copying src\\lxml\\html\\diff.py -> build\\lib.win-amd64-3.9\\lxml\\html\n",
      "  copying src\\lxml\\html\\ElementSoup.py -> build\\lib.win-amd64-3.9\\lxml\\html\n",
      "  copying src\\lxml\\html\\formfill.py -> build\\lib.win-amd64-3.9\\lxml\\html\n",
      "  copying src\\lxml\\html\\html5parser.py -> build\\lib.win-amd64-3.9\\lxml\\html\n",
      "  copying src\\lxml\\html\\soupparser.py -> build\\lib.win-amd64-3.9\\lxml\\html\n",
      "  copying src\\lxml\\html\\usedoctest.py -> build\\lib.win-amd64-3.9\\lxml\\html\n",
      "  copying src\\lxml\\html\\_diffcommand.py -> build\\lib.win-amd64-3.9\\lxml\\html\n",
      "  copying src\\lxml\\html\\_html5builder.py -> build\\lib.win-amd64-3.9\\lxml\\html\n",
      "  copying src\\lxml\\html\\_setmixin.py -> build\\lib.win-amd64-3.9\\lxml\\html\n",
      "  copying src\\lxml\\html\\__init__.py -> build\\lib.win-amd64-3.9\\lxml\\html\n",
      "  creating build\\lib.win-amd64-3.9\\lxml\\isoschematron\n",
      "  copying src\\lxml\\isoschematron\\__init__.py -> build\\lib.win-amd64-3.9\\lxml\\isoschematron\n",
      "  copying src\\lxml\\etree.h -> build\\lib.win-amd64-3.9\\lxml\n",
      "  copying src\\lxml\\etree_api.h -> build\\lib.win-amd64-3.9\\lxml\n",
      "  copying src\\lxml\\lxml.etree.h -> build\\lib.win-amd64-3.9\\lxml\n",
      "  copying src\\lxml\\lxml.etree_api.h -> build\\lib.win-amd64-3.9\\lxml\n",
      "  copying src\\lxml\\includes\\c14n.pxd -> build\\lib.win-amd64-3.9\\lxml\\includes\n",
      "  copying src\\lxml\\includes\\config.pxd -> build\\lib.win-amd64-3.9\\lxml\\includes\n",
      "  copying src\\lxml\\includes\\dtdvalid.pxd -> build\\lib.win-amd64-3.9\\lxml\\includes\n",
      "  copying src\\lxml\\includes\\etreepublic.pxd -> build\\lib.win-amd64-3.9\\lxml\\includes\n",
      "  copying src\\lxml\\includes\\htmlparser.pxd -> build\\lib.win-amd64-3.9\\lxml\\includes\n",
      "  copying src\\lxml\\includes\\relaxng.pxd -> build\\lib.win-amd64-3.9\\lxml\\includes\n",
      "  copying src\\lxml\\includes\\schematron.pxd -> build\\lib.win-amd64-3.9\\lxml\\includes\n",
      "  copying src\\lxml\\includes\\tree.pxd -> build\\lib.win-amd64-3.9\\lxml\\includes\n",
      "  copying src\\lxml\\includes\\uri.pxd -> build\\lib.win-amd64-3.9\\lxml\\includes\n",
      "  copying src\\lxml\\includes\\xinclude.pxd -> build\\lib.win-amd64-3.9\\lxml\\includes\n",
      "  copying src\\lxml\\includes\\xmlerror.pxd -> build\\lib.win-amd64-3.9\\lxml\\includes\n",
      "  copying src\\lxml\\includes\\xmlparser.pxd -> build\\lib.win-amd64-3.9\\lxml\\includes\n",
      "  copying src\\lxml\\includes\\xmlschema.pxd -> build\\lib.win-amd64-3.9\\lxml\\includes\n",
      "  copying src\\lxml\\includes\\xpath.pxd -> build\\lib.win-amd64-3.9\\lxml\\includes\n",
      "  copying src\\lxml\\includes\\xslt.pxd -> build\\lib.win-amd64-3.9\\lxml\\includes\n",
      "  copying src\\lxml\\includes\\__init__.pxd -> build\\lib.win-amd64-3.9\\lxml\\includes\n",
      "  copying src\\lxml\\includes\\etree_defs.h -> build\\lib.win-amd64-3.9\\lxml\\includes\n",
      "  copying src\\lxml\\includes\\lxml-version.h -> build\\lib.win-amd64-3.9\\lxml\\includes\n",
      "  creating build\\lib.win-amd64-3.9\\lxml\\isoschematron\\resources\n",
      "  creating build\\lib.win-amd64-3.9\\lxml\\isoschematron\\resources\\rng\n",
      "  copying src\\lxml\\isoschematron\\resources\\rng\\iso-schematron.rng -> build\\lib.win-amd64-3.9\\lxml\\isoschematron\\resources\\rng\n",
      "  creating build\\lib.win-amd64-3.9\\lxml\\isoschematron\\resources\\xsl\n",
      "  copying src\\lxml\\isoschematron\\resources\\xsl\\RNG2Schtrn.xsl -> build\\lib.win-amd64-3.9\\lxml\\isoschematron\\resources\\xsl\n",
      "  copying src\\lxml\\isoschematron\\resources\\xsl\\XSD2Schtrn.xsl -> build\\lib.win-amd64-3.9\\lxml\\isoschematron\\resources\\xsl\n",
      "  creating build\\lib.win-amd64-3.9\\lxml\\isoschematron\\resources\\xsl\\iso-schematron-xslt1\n",
      "  copying src\\lxml\\isoschematron\\resources\\xsl\\iso-schematron-xslt1\\iso_abstract_expand.xsl -> build\\lib.win-amd64-3.9\\lxml\\isoschematron\\resources\\xsl\\iso-schematron-xslt1\n",
      "  copying src\\lxml\\isoschematron\\resources\\xsl\\iso-schematron-xslt1\\iso_dsdl_include.xsl -> build\\lib.win-amd64-3.9\\lxml\\isoschematron\\resources\\xsl\\iso-schematron-xslt1\n",
      "  copying src\\lxml\\isoschematron\\resources\\xsl\\iso-schematron-xslt1\\iso_schematron_message.xsl -> build\\lib.win-amd64-3.9\\lxml\\isoschematron\\resources\\xsl\\iso-schematron-xslt1\n",
      "  copying src\\lxml\\isoschematron\\resources\\xsl\\iso-schematron-xslt1\\iso_schematron_skeleton_for_xslt1.xsl -> build\\lib.win-amd64-3.9\\lxml\\isoschematron\\resources\\xsl\\iso-schematron-xslt1\n",
      "  copying src\\lxml\\isoschematron\\resources\\xsl\\iso-schematron-xslt1\\iso_svrl_for_xslt1.xsl -> build\\lib.win-amd64-3.9\\lxml\\isoschematron\\resources\\xsl\\iso-schematron-xslt1\n",
      "  copying src\\lxml\\isoschematron\\resources\\xsl\\iso-schematron-xslt1\\readme.txt -> build\\lib.win-amd64-3.9\\lxml\\isoschematron\\resources\\xsl\\iso-schematron-xslt1\n",
      "  running build_ext\n",
      "  building 'lxml.etree' extension\n",
      "  error: Microsoft Visual C++ 14.0 or greater is required. Get it with \"Microsoft C++ Build Tools\": https://visualstudio.microsoft.com/visual-cpp-build-tools/\n",
      "  ----------------------------------------\n",
      "  ERROR: Failed building wheel for lxml\n",
      "    ERROR: Command errored out with exit status 1:\n",
      "     command: 'C:\\ProgramData\\Anaconda3\\python.exe' -u -c 'import io, os, sys, setuptools, tokenize; sys.argv[0] = '\"'\"'C:\\\\Users\\\\mstas\\\\AppData\\\\Local\\\\Temp\\\\pip-install-0qa60apx\\\\lxml_5fc49d3854c842349a0698f68929553c\\\\setup.py'\"'\"'; __file__='\"'\"'C:\\\\Users\\\\mstas\\\\AppData\\\\Local\\\\Temp\\\\pip-install-0qa60apx\\\\lxml_5fc49d3854c842349a0698f68929553c\\\\setup.py'\"'\"';f = getattr(tokenize, '\"'\"'open'\"'\"', open)(__file__) if os.path.exists(__file__) else io.StringIO('\"'\"'from setuptools import setup; setup()'\"'\"');code = f.read().replace('\"'\"'\\r\\n'\"'\"', '\"'\"'\\n'\"'\"');f.close();exec(compile(code, __file__, '\"'\"'exec'\"'\"'))' install --record 'C:\\Users\\mstas\\AppData\\Local\\Temp\\pip-record-ldey327x\\install-record.txt' --single-version-externally-managed --user --prefix= --compile --install-headers 'C:\\Users\\mstas\\AppData\\Roaming\\Python\\Python39\\Include\\lxml'\n",
      "         cwd: C:\\Users\\mstas\\AppData\\Local\\Temp\\pip-install-0qa60apx\\lxml_5fc49d3854c842349a0698f68929553c\\\n",
      "    Complete output (79 lines):\n",
      "    Building lxml version 4.5.0.\n",
      "    Building without Cython.\n",
      "    ERROR: b\"'xslt-config' is not recognized as an internal or external command,\\r\\noperable program or batch file.\\r\\n\"\n",
      "    ** make sure the development packages of libxml2 and libxslt are installed **\n",
      "    \n",
      "    Using build configuration of libxslt\n",
      "    running install\n",
      "    C:\\ProgramData\\Anaconda3\\lib\\site-packages\\setuptools\\command\\install.py:34: SetuptoolsDeprecationWarning: setup.py install is deprecated. Use build and pip and other standards-based tools.\n",
      "      warnings.warn(\n",
      "    running build\n",
      "    running build_py\n",
      "    creating build\n",
      "    creating build\\lib.win-amd64-3.9\n",
      "    creating build\\lib.win-amd64-3.9\\lxml\n",
      "    copying src\\lxml\\builder.py -> build\\lib.win-amd64-3.9\\lxml\n",
      "    copying src\\lxml\\cssselect.py -> build\\lib.win-amd64-3.9\\lxml\n",
      "    copying src\\lxml\\doctestcompare.py -> build\\lib.win-amd64-3.9\\lxml\n",
      "    copying src\\lxml\\ElementInclude.py -> build\\lib.win-amd64-3.9\\lxml\n",
      "    copying src\\lxml\\pyclasslookup.py -> build\\lib.win-amd64-3.9\\lxml\n",
      "    copying src\\lxml\\sax.py -> build\\lib.win-amd64-3.9\\lxml\n",
      "    copying src\\lxml\\usedoctest.py -> build\\lib.win-amd64-3.9\\lxml\n",
      "    copying src\\lxml\\_elementpath.py -> build\\lib.win-amd64-3.9\\lxml\n",
      "    copying src\\lxml\\__init__.py -> build\\lib.win-amd64-3.9\\lxml\n",
      "    creating build\\lib.win-amd64-3.9\\lxml\\includes\n",
      "    copying src\\lxml\\includes\\__init__.py -> build\\lib.win-amd64-3.9\\lxml\\includes\n",
      "    creating build\\lib.win-amd64-3.9\\lxml\\html\n",
      "    copying src\\lxml\\html\\builder.py -> build\\lib.win-amd64-3.9\\lxml\\html\n",
      "    copying src\\lxml\\html\\clean.py -> build\\lib.win-amd64-3.9\\lxml\\html\n",
      "    copying src\\lxml\\html\\defs.py -> build\\lib.win-amd64-3.9\\lxml\\html\n",
      "    copying src\\lxml\\html\\diff.py -> build\\lib.win-amd64-3.9\\lxml\\html\n",
      "    copying src\\lxml\\html\\ElementSoup.py -> build\\lib.win-amd64-3.9\\lxml\\html\n",
      "    copying src\\lxml\\html\\formfill.py -> build\\lib.win-amd64-3.9\\lxml\\html\n",
      "    copying src\\lxml\\html\\html5parser.py -> build\\lib.win-amd64-3.9\\lxml\\html\n",
      "    copying src\\lxml\\html\\soupparser.py -> build\\lib.win-amd64-3.9\\lxml\\html\n",
      "    copying src\\lxml\\html\\usedoctest.py -> build\\lib.win-amd64-3.9\\lxml\\html\n",
      "    copying src\\lxml\\html\\_diffcommand.py -> build\\lib.win-amd64-3.9\\lxml\\html\n",
      "    copying src\\lxml\\html\\_html5builder.py -> build\\lib.win-amd64-3.9\\lxml\\html\n",
      "    copying src\\lxml\\html\\_setmixin.py -> build\\lib.win-amd64-3.9\\lxml\\html\n",
      "    copying src\\lxml\\html\\__init__.py -> build\\lib.win-amd64-3.9\\lxml\\html\n",
      "    creating build\\lib.win-amd64-3.9\\lxml\\isoschematron\n",
      "    copying src\\lxml\\isoschematron\\__init__.py -> build\\lib.win-amd64-3.9\\lxml\\isoschematron\n",
      "    copying src\\lxml\\etree.h -> build\\lib.win-amd64-3.9\\lxml\n",
      "    copying src\\lxml\\etree_api.h -> build\\lib.win-amd64-3.9\\lxml\n",
      "    copying src\\lxml\\lxml.etree.h -> build\\lib.win-amd64-3.9\\lxml\n",
      "    copying src\\lxml\\lxml.etree_api.h -> build\\lib.win-amd64-3.9\\lxml\n",
      "    copying src\\lxml\\includes\\c14n.pxd -> build\\lib.win-amd64-3.9\\lxml\\includes\n",
      "    copying src\\lxml\\includes\\config.pxd -> build\\lib.win-amd64-3.9\\lxml\\includes\n",
      "    copying src\\lxml\\includes\\dtdvalid.pxd -> build\\lib.win-amd64-3.9\\lxml\\includes\n",
      "    copying src\\lxml\\includes\\etreepublic.pxd -> build\\lib.win-amd64-3.9\\lxml\\includes\n",
      "    copying src\\lxml\\includes\\htmlparser.pxd -> build\\lib.win-amd64-3.9\\lxml\\includes\n",
      "    copying src\\lxml\\includes\\relaxng.pxd -> build\\lib.win-amd64-3.9\\lxml\\includes\n",
      "    copying src\\lxml\\includes\\schematron.pxd -> build\\lib.win-amd64-3.9\\lxml\\includes\n",
      "    copying src\\lxml\\includes\\tree.pxd -> build\\lib.win-amd64-3.9\\lxml\\includes\n",
      "    copying src\\lxml\\includes\\uri.pxd -> build\\lib.win-amd64-3.9\\lxml\\includes\n",
      "    copying src\\lxml\\includes\\xinclude.pxd -> build\\lib.win-amd64-3.9\\lxml\\includes\n",
      "    copying src\\lxml\\includes\\xmlerror.pxd -> build\\lib.win-amd64-3.9\\lxml\\includes\n",
      "    copying src\\lxml\\includes\\xmlparser.pxd -> build\\lib.win-amd64-3.9\\lxml\\includes\n",
      "    copying src\\lxml\\includes\\xmlschema.pxd -> build\\lib.win-amd64-3.9\\lxml\\includes\n",
      "    copying src\\lxml\\includes\\xpath.pxd -> build\\lib.win-amd64-3.9\\lxml\\includes\n",
      "    copying src\\lxml\\includes\\xslt.pxd -> build\\lib.win-amd64-3.9\\lxml\\includes\n",
      "    copying src\\lxml\\includes\\__init__.pxd -> build\\lib.win-amd64-3.9\\lxml\\includes\n",
      "    copying src\\lxml\\includes\\etree_defs.h -> build\\lib.win-amd64-3.9\\lxml\\includes\n",
      "    copying src\\lxml\\includes\\lxml-version.h -> build\\lib.win-amd64-3.9\\lxml\\includes\n",
      "    creating build\\lib.win-amd64-3.9\\lxml\\isoschematron\\resources\n",
      "    creating build\\lib.win-amd64-3.9\\lxml\\isoschematron\\resources\\rng\n",
      "    copying src\\lxml\\isoschematron\\resources\\rng\\iso-schematron.rng -> build\\lib.win-amd64-3.9\\lxml\\isoschematron\\resources\\rng\n",
      "    creating build\\lib.win-amd64-3.9\\lxml\\isoschematron\\resources\\xsl\n",
      "    copying src\\lxml\\isoschematron\\resources\\xsl\\RNG2Schtrn.xsl -> build\\lib.win-amd64-3.9\\lxml\\isoschematron\\resources\\xsl\n",
      "    copying src\\lxml\\isoschematron\\resources\\xsl\\XSD2Schtrn.xsl -> build\\lib.win-amd64-3.9\\lxml\\isoschematron\\resources\\xsl\n",
      "    creating build\\lib.win-amd64-3.9\\lxml\\isoschematron\\resources\\xsl\\iso-schematron-xslt1\n",
      "    copying src\\lxml\\isoschematron\\resources\\xsl\\iso-schematron-xslt1\\iso_abstract_expand.xsl -> build\\lib.win-amd64-3.9\\lxml\\isoschematron\\resources\\xsl\\iso-schematron-xslt1\n",
      "    copying src\\lxml\\isoschematron\\resources\\xsl\\iso-schematron-xslt1\\iso_dsdl_include.xsl -> build\\lib.win-amd64-3.9\\lxml\\isoschematron\\resources\\xsl\\iso-schematron-xslt1\n",
      "    copying src\\lxml\\isoschematron\\resources\\xsl\\iso-schematron-xslt1\\iso_schematron_message.xsl -> build\\lib.win-amd64-3.9\\lxml\\isoschematron\\resources\\xsl\\iso-schematron-xslt1\n",
      "    copying src\\lxml\\isoschematron\\resources\\xsl\\iso-schematron-xslt1\\iso_schematron_skeleton_for_xslt1.xsl -> build\\lib.win-amd64-3.9\\lxml\\isoschematron\\resources\\xsl\\iso-schematron-xslt1\n",
      "    copying src\\lxml\\isoschematron\\resources\\xsl\\iso-schematron-xslt1\\iso_svrl_for_xslt1.xsl -> build\\lib.win-amd64-3.9\\lxml\\isoschematron\\resources\\xsl\\iso-schematron-xslt1\n",
      "    copying src\\lxml\\isoschematron\\resources\\xsl\\iso-schematron-xslt1\\readme.txt -> build\\lib.win-amd64-3.9\\lxml\\isoschematron\\resources\\xsl\\iso-schematron-xslt1\n",
      "    running build_ext\n",
      "    building 'lxml.etree' extension\n",
      "    error: Microsoft Visual C++ 14.0 or greater is required. Get it with \"Microsoft C++ Build Tools\": https://visualstudio.microsoft.com/visual-cpp-build-tools/\n",
      "    ----------------------------------------\n",
      "ERROR: Command errored out with exit status 1: 'C:\\ProgramData\\Anaconda3\\python.exe' -u -c 'import io, os, sys, setuptools, tokenize; sys.argv[0] = '\"'\"'C:\\\\Users\\\\mstas\\\\AppData\\\\Local\\\\Temp\\\\pip-install-0qa60apx\\\\lxml_5fc49d3854c842349a0698f68929553c\\\\setup.py'\"'\"'; __file__='\"'\"'C:\\\\Users\\\\mstas\\\\AppData\\\\Local\\\\Temp\\\\pip-install-0qa60apx\\\\lxml_5fc49d3854c842349a0698f68929553c\\\\setup.py'\"'\"';f = getattr(tokenize, '\"'\"'open'\"'\"', open)(__file__) if os.path.exists(__file__) else io.StringIO('\"'\"'from setuptools import setup; setup()'\"'\"');code = f.read().replace('\"'\"'\\r\\n'\"'\"', '\"'\"'\\n'\"'\"');f.close();exec(compile(code, __file__, '\"'\"'exec'\"'\"'))' install --record 'C:\\Users\\mstas\\AppData\\Local\\Temp\\pip-record-ldey327x\\install-record.txt' --single-version-externally-managed --user --prefix= --compile --install-headers 'C:\\Users\\mstas\\AppData\\Roaming\\Python\\Python39\\Include\\lxml' Check the logs for full command output.\n"
     ]
    }
   ],
   "source": [
    "pip install browser"
   ]
  },
  {
   "cell_type": "code",
   "execution_count": null,
   "id": "ae25cef8",
   "metadata": {},
   "outputs": [],
   "source": []
  },
  {
   "cell_type": "code",
   "execution_count": 33,
   "id": "d7d1ebc1",
   "metadata": {},
   "outputs": [
    {
     "ename": "NameError",
     "evalue": "name 'browser' is not defined",
     "output_type": "error",
     "traceback": [
      "\u001b[1;31m---------------------------------------------------------------------------\u001b[0m",
      "\u001b[1;31mNameError\u001b[0m                                 Traceback (most recent call last)",
      "Input \u001b[1;32mIn [33]\u001b[0m, in \u001b[0;36m<cell line: 2>\u001b[1;34m()\u001b[0m\n\u001b[0;32m      1\u001b[0m news_url \u001b[38;5;241m=\u001b[39m \u001b[38;5;124m'\u001b[39m\u001b[38;5;124mhttps://redplanetscience.com/\u001b[39m\u001b[38;5;124m'\u001b[39m\n\u001b[1;32m----> 2\u001b[0m \u001b[43mbrowser\u001b[49m\u001b[38;5;241m.\u001b[39mvisit(news_url)\n\u001b[0;32m      3\u001b[0m html \u001b[38;5;241m=\u001b[39m browser\u001b[38;5;241m.\u001b[39mhtml\n\u001b[0;32m      4\u001b[0m news_soup \u001b[38;5;241m=\u001b[39m BeautifulSoup(html, \u001b[38;5;124m'\u001b[39m\u001b[38;5;124mhtml.parser\u001b[39m\u001b[38;5;124m'\u001b[39m)\n",
      "\u001b[1;31mNameError\u001b[0m: name 'browser' is not defined"
     ]
    }
   ],
   "source": [
    "news_url = 'https://redplanetscience.com/'\n",
    "browser.visit(news_url)\n",
    "html = browser.html\n",
    "news_soup = BeautifulSoup(html, 'html.parser')"
   ]
  },
  {
   "cell_type": "code",
   "execution_count": null,
   "id": "9015d2c2",
   "metadata": {},
   "outputs": [],
   "source": []
  }
 ],
 "metadata": {
  "kernelspec": {
   "display_name": "Python 3 (ipykernel)",
   "language": "python",
   "name": "python3"
  },
  "language_info": {
   "codemirror_mode": {
    "name": "ipython",
    "version": 3
   },
   "file_extension": ".py",
   "mimetype": "text/x-python",
   "name": "python",
   "nbconvert_exporter": "python",
   "pygments_lexer": "ipython3",
   "version": "3.9.12"
  }
 },
 "nbformat": 4,
 "nbformat_minor": 5
}
